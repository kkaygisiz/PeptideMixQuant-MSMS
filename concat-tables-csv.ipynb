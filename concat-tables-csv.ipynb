{
 "cells": [
  {
   "cell_type": "code",
   "execution_count": null,
   "metadata": {},
   "outputs": [],
   "source": [
    "# concatenate all output csv files in one merged csv\n",
    "\n",
    "import pandas as pd\n",
    "from pathlib import Path\n",
    "\n",
    "source_files = sorted(Path('C:\\example\\pathway').glob('*.csv'))  # Replace with the pathway the output files are located\n",
    "\n",
    "dataframes = []\n",
    "for file in source_files:\n",
    "    df = pd.read_csv(file) # additional arguments up to your needs\n",
    "    df['source'] = file.name\n",
    "    dataframes.append(df)\n",
    "\n",
    "df_all = pd.concat(dataframes, axis=1)\n",
    "\n",
    "\n",
    "print(df_all)\n",
    "\n",
    "df_all.to_csv(\"C:\\example\\pathway\\merged_data.csv\", index=False) # Replace with the pathway the merged.csv file should be saved\n"
   ]
  }
 ],
 "metadata": {
  "kernelspec": {
   "display_name": "LCMS",
   "language": "python",
   "name": "python3"
  },
  "language_info": {
   "codemirror_mode": {
    "name": "ipython",
    "version": 3
   },
   "file_extension": ".py",
   "mimetype": "text/x-python",
   "name": "python",
   "nbconvert_exporter": "python",
   "pygments_lexer": "ipython3",
   "version": "3.11.9"
  }
 },
 "nbformat": 4,
 "nbformat_minor": 2
}
